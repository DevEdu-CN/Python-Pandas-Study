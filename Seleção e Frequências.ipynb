{
 "cells": [
  {
   "cell_type": "markdown",
   "id": "c1a46dda",
   "metadata": {},
   "source": [
    "# Relatório de Análise IV\n",
    "## Seleção e Frequências"
   ]
  },
  {
   "cell_type": "code",
   "execution_count": 2,
   "id": "9494e2cb",
   "metadata": {},
   "outputs": [],
   "source": [
    "import pandas as pd\n"
   ]
  },
  {
   "cell_type": "code",
   "execution_count": 3,
   "id": "f0dc1ef1",
   "metadata": {},
   "outputs": [],
   "source": [
    "dados = pd.read_csv('dados/aluguel_residencial.csv', sep = ';')"
   ]
  },
  {
   "cell_type": "code",
   "execution_count": 10,
   "id": "88d30a45",
   "metadata": {},
   "outputs": [
    {
     "data": {
      "text/plain": [
       "19532"
      ]
     },
     "execution_count": 10,
     "metadata": {},
     "output_type": "execute_result"
    }
   ],
   "source": [
    "#Selecione somente os imóveis classificados com tipo 'Apartamento'.\n",
    "selecao = dados ['Tipo'] == 'Apartamento'\n",
    "n1 = dados[selecao].shape[0]\n",
    "n1"
   ]
  },
  {
   "cell_type": "code",
   "execution_count": 11,
   "id": "599eed79",
   "metadata": {},
   "outputs": [
    {
     "data": {
      "text/plain": [
       "2212"
      ]
     },
     "execution_count": 11,
     "metadata": {},
     "output_type": "execute_result"
    }
   ],
   "source": [
    "#Selecione os imóveis classificados com tipos 'Casa', 'Casa de Condomínio' e 'Casa de Vila'.\n",
    "selecao = (dados['Tipo'] == 'Casa') | (dados['Tipo'] == 'Casa de Condomínio') | (dados['Tipo'] == 'Casa de Vila')\n",
    "n2 = dados[selecao].shape[0]\n",
    "n2 "
   ]
  },
  {
   "cell_type": "code",
   "execution_count": 12,
   "id": "24a1517a",
   "metadata": {},
   "outputs": [
    {
     "data": {
      "text/plain": [
       "8719"
      ]
     },
     "execution_count": 12,
     "metadata": {},
     "output_type": "execute_result"
    }
   ],
   "source": [
    "#Selecione os imóveis com área entre 60 e 100 metros quadrados, incluindo os limites.\n",
    "#60 <= Area <=100\n",
    "selecao = (dados['Area'] >= 60) & (dados['Area'] <= 100)\n",
    "n3 = dados[selecao].shape[0]\n",
    "n3"
   ]
  },
  {
   "cell_type": "code",
   "execution_count": 13,
   "id": "42da68f5",
   "metadata": {},
   "outputs": [
    {
     "data": {
      "text/plain": [
       "41"
      ]
     },
     "execution_count": 13,
     "metadata": {},
     "output_type": "execute_result"
    }
   ],
   "source": [
    "#Selecione os imóveis que tenham pelo menos 4 quartos e aluguel menor que R$ 2.000,00.\n",
    "selecao = (dados['Quartos'] >= 4) & (dados['Valor'] < 2000)\n",
    "n4 = dados[selecao].shape[0]\n",
    "n4"
   ]
  },
  {
   "cell_type": "code",
   "execution_count": 14,
   "id": "e140127b",
   "metadata": {},
   "outputs": [
    {
     "name": "stdout",
     "output_type": "stream",
     "text": [
      "Nº de imóveis classificados com tipo 'Apartamento' -> 19532\n",
      "Nº de imóveis classificados com tipos 'Casa', 'Casa de Condomínio' e 'Casa de Vila'-> 2212\n",
      "Nº de imóveis com área entre 60 e 100 metros quadrados, incluindo os limites -> 8719\n",
      "Nº de imóveis que tenham pelo menos 4 quartos e aluguel menor que R$ 2.000,00 -> 41\n"
     ]
    }
   ],
   "source": [
    "print(\"Nº de imóveis classificados com tipo 'Apartamento' -> {}\".format(n1))\n",
    "print(\"Nº de imóveis classificados com tipos 'Casa', 'Casa de Condomínio' e 'Casa de Vila'-> {}\".format(n2))\n",
    "print(\"Nº de imóveis com área entre 60 e 100 metros quadrados, incluindo os limites -> {}\".format(n3))\n",
    "print(\"Nº de imóveis que tenham pelo menos 4 quartos e aluguel menor que R$ 2.000,00 -> {}\".format(n4))"
   ]
  },
  {
   "cell_type": "code",
   "execution_count": 4,
   "id": "252b1107",
   "metadata": {},
   "outputs": [],
   "source": []
  },
  {
   "cell_type": "code",
   "execution_count": null,
   "id": "12530c02",
   "metadata": {},
   "outputs": [],
   "source": []
  }
 ],
 "metadata": {
  "kernelspec": {
   "display_name": "Python 3",
   "language": "python",
   "name": "python3"
  },
  "language_info": {
   "codemirror_mode": {
    "name": "ipython",
    "version": 3
   },
   "file_extension": ".py",
   "mimetype": "text/x-python",
   "name": "python",
   "nbconvert_exporter": "python",
   "pygments_lexer": "ipython3",
   "version": "3.6.13"
  }
 },
 "nbformat": 4,
 "nbformat_minor": 5
}
